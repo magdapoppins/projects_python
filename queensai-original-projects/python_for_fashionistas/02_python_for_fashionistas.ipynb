{
 "cells": [
  {
   "cell_type": "markdown",
   "metadata": {},
   "source": [
    "# Python for Fashionistas - Part 2"
   ]
  },
  {
   "cell_type": "markdown",
   "metadata": {},
   "source": [
    "![fashionista](images/fashionista.png)"
   ]
  },
  {
   "cell_type": "markdown",
   "metadata": {},
   "source": [
    "## Part 2"
   ]
  },
  {
   "cell_type": "markdown",
   "metadata": {},
   "source": [
    "The following sections will be a _complement_ with examples of real life applications to the course on Udacity. It is recommended to go through the subsections lists and tuples after watching 1-10 of ```Lesson 3: Data Structures``` and 10-14 of ```Lesson 4: Control Flow```.\n",
    "\n",
    "### 1. Lists\n",
    "\n",
    "Imagine you want to keep track of the ten most popular articles at a global fashion store. You could keep track of them in 10 different variables, but it is very cumbersome. Therefore, Python offers something called **lists**, which is a data structure that can store a collection of items.\n",
    "\n",
    "* a list is defined using squared brackets [item1, item2, item3, ...]\n",
    "* each item is separated with a comma \n",
    "* index (position) starts from 0,1,2,..,n"
   ]
  },
  {
   "cell_type": "code",
   "execution_count": 1,
   "metadata": {},
   "outputs": [
    {
     "data": {
      "text/plain": [
       "['Oversized Denim Shirt',\n",
       " 'Platform Boots',\n",
       " 'Fine-knit Pencil Skirt',\n",
       " 'Mom High Ankle Jeans',\n",
       " 'Rib-knit Sweater',\n",
       " 'Hairband with Knot',\n",
       " 'Water-repellent Shell Jacket',\n",
       " 'Cotton Cargo Joggers',\n",
       " 'Cotton Hoodie',\n",
       " 'Corduroy Overall Dress']"
      ]
     },
     "execution_count": 1,
     "metadata": {},
     "output_type": "execute_result"
    }
   ],
   "source": [
    "most_popular_articles = ['Oversized Denim Shirt',\n",
    "                         'Platform Boots',\n",
    "                         'Fine-knit Pencil Skirt',\n",
    "                         'Mom High Ankle Jeans',\n",
    "                         'Rib-knit Sweater',\n",
    "                         'Hairband with Knot',\n",
    "                         'Water-repellent Shell Jacket',\n",
    "                         'Cotton Cargo Joggers',\n",
    "                         'Cotton Hoodie',\n",
    "                         'Corduroy Overall Dress']\n",
    "most_popular_articles"
   ]
  },
  {
   "cell_type": "markdown",
   "metadata": {},
   "source": [
    "### 1.1. Examine a list\n",
    "\n",
    "It is common that you want to access the values in a list. To do that you have to specify:\n",
    "\n",
    "* the variable that stores the list\n",
    "* the index of that value"
   ]
  },
  {
   "cell_type": "markdown",
   "metadata": {},
   "source": [
    "What is the **first** article in the list?"
   ]
  },
  {
   "cell_type": "code",
   "execution_count": 2,
   "metadata": {},
   "outputs": [
    {
     "data": {
      "text/plain": [
       "'Oversized Denim Shirt'"
      ]
     },
     "execution_count": 2,
     "metadata": {},
     "output_type": "execute_result"
    }
   ],
   "source": [
    "most_popular_articles[0]"
   ]
  },
  {
   "cell_type": "markdown",
   "metadata": {},
   "source": [
    "What is the **second** article in the list?"
   ]
  },
  {
   "cell_type": "code",
   "execution_count": null,
   "metadata": {},
   "outputs": [],
   "source": [
    "# Exercise a)\n"
   ]
  },
  {
   "cell_type": "markdown",
   "metadata": {},
   "source": [
    "What is the **fifth** article in the list?"
   ]
  },
  {
   "cell_type": "code",
   "execution_count": 3,
   "metadata": {},
   "outputs": [],
   "source": [
    "# Exercise b)\n"
   ]
  },
  {
   "cell_type": "markdown",
   "metadata": {},
   "source": [
    "What is the **last** article in the list?"
   ]
  },
  {
   "cell_type": "code",
   "execution_count": 4,
   "metadata": {},
   "outputs": [],
   "source": [
    "# Exercise c)\n"
   ]
  },
  {
   "cell_type": "markdown",
   "metadata": {},
   "source": [
    "**Extra:** Negative indexing means starting from the end, -1 refers to the last element, -2 refers to the second last element and so on. Try it out!"
   ]
  },
  {
   "cell_type": "code",
   "execution_count": 5,
   "metadata": {},
   "outputs": [],
   "source": []
  },
  {
   "cell_type": "markdown",
   "metadata": {},
   "source": [
    "### 1.2. List slicing\n",
    "Instead of returning a single element from the list, we can also return selected parts from it. The only difference is that an index interval need to be specified."
   ]
  },
  {
   "cell_type": "code",
   "execution_count": 6,
   "metadata": {},
   "outputs": [
    {
     "data": {
      "text/plain": [
       "['Oversized Denim Shirt', 'Platform Boots', 'Fine-knit Pencil Skirt']"
      ]
     },
     "execution_count": 6,
     "metadata": {},
     "output_type": "execute_result"
    }
   ],
   "source": [
    "most_popular_articles[0:3] # from index 0 up to, but not including index 3."
   ]
  },
  {
   "cell_type": "markdown",
   "metadata": {},
   "source": [
    "Excluding the first index means return all the elements before the second index."
   ]
  },
  {
   "cell_type": "code",
   "execution_count": 8,
   "metadata": {},
   "outputs": [
    {
     "data": {
      "text/plain": [
       "['Oversized Denim Shirt', 'Platform Boots', 'Fine-knit Pencil Skirt']"
      ]
     },
     "execution_count": 8,
     "metadata": {},
     "output_type": "execute_result"
    }
   ],
   "source": [
    "most_popular_articles[:3]"
   ]
  },
  {
   "cell_type": "markdown",
   "metadata": {},
   "source": [
    "Excluding the second index means return all elements from the first index to the very end of the list."
   ]
  },
  {
   "cell_type": "code",
   "execution_count": 9,
   "metadata": {},
   "outputs": [
    {
     "data": {
      "text/plain": [
       "['Mom High Ankle Jeans',\n",
       " 'Rib-knit Sweater',\n",
       " 'Hairband with Knot',\n",
       " 'Water-repellent Shell Jacket',\n",
       " 'Cotton Cargo Joggers',\n",
       " 'Cotton Hoodie',\n",
       " 'Corduroy Overall Dress']"
      ]
     },
     "execution_count": 9,
     "metadata": {},
     "output_type": "execute_result"
    }
   ],
   "source": [
    "most_popular_articles[3:]"
   ]
  },
  {
   "cell_type": "markdown",
   "metadata": {},
   "source": [
    "**Exercise:** Return any five elements in the list"
   ]
  },
  {
   "cell_type": "code",
   "execution_count": null,
   "metadata": {},
   "outputs": [],
   "source": []
  },
  {
   "cell_type": "markdown",
   "metadata": {},
   "source": [
    "**Exercise:** Return the five first elements in the list"
   ]
  },
  {
   "cell_type": "code",
   "execution_count": null,
   "metadata": {},
   "outputs": [],
   "source": []
  },
  {
   "cell_type": "markdown",
   "metadata": {},
   "source": [
    "**Exercise:** Return the five last elements in the list"
   ]
  },
  {
   "cell_type": "code",
   "execution_count": null,
   "metadata": {},
   "outputs": [],
   "source": []
  },
  {
   "cell_type": "markdown",
   "metadata": {},
   "source": [
    "### 1.3 List methods\n",
    "In Python lists are known for being _mutable_ which means we can modify the content in it, including changing the number of elements. We are going to try this out using _methods_ and for now it is enough that you know that methods let us do something. To use a method you have to specify:\n",
    "\n",
    "* the list to modify\n",
    "* the name of the method\n",
    "* input parameter(s)"
   ]
  },
  {
   "cell_type": "markdown",
   "metadata": {},
   "source": [
    "The method _append(element)_ adds an element to the end of a list."
   ]
  },
  {
   "cell_type": "code",
   "execution_count": 10,
   "metadata": {},
   "outputs": [
    {
     "data": {
      "text/plain": [
       "['Oversized Denim Shirt',\n",
       " 'Platform Boots',\n",
       " 'Fine-knit Pencil Skirt',\n",
       " 'Mom High Ankle Jeans',\n",
       " 'Rib-knit Sweater',\n",
       " 'Hairband with Knot',\n",
       " 'Water-repellent Shell Jacket',\n",
       " 'Cotton Cargo Joggers',\n",
       " 'Cotton Hoodie',\n",
       " 'Corduroy Overall Dress',\n",
       " 'Patterned Ruffled Dress']"
      ]
     },
     "execution_count": 10,
     "metadata": {},
     "output_type": "execute_result"
    }
   ],
   "source": [
    "most_popular_articles.append('Patterned Ruffled Dress')\n",
    "most_popular_articles"
   ]
  },
  {
   "cell_type": "markdown",
   "metadata": {},
   "source": [
    "The method _insert(index, element)_ places an element at a specific position in the list. This function requires two input parameters, index and element."
   ]
  },
  {
   "cell_type": "code",
   "execution_count": 11,
   "metadata": {},
   "outputs": [
    {
     "data": {
      "text/plain": [
       "['Oversized Denim Shirt',\n",
       " 'Platform Boots',\n",
       " 'Boxy Puffer Jacket',\n",
       " 'Fine-knit Pencil Skirt',\n",
       " 'Mom High Ankle Jeans',\n",
       " 'Rib-knit Sweater',\n",
       " 'Hairband with Knot',\n",
       " 'Water-repellent Shell Jacket',\n",
       " 'Cotton Cargo Joggers',\n",
       " 'Cotton Hoodie',\n",
       " 'Corduroy Overall Dress',\n",
       " 'Patterned Ruffled Dress']"
      ]
     },
     "execution_count": 11,
     "metadata": {},
     "output_type": "execute_result"
    }
   ],
   "source": [
    "most_popular_articles.insert(2, 'Boxy Puffer Jacket')\n",
    "most_popular_articles"
   ]
  },
  {
   "cell_type": "markdown",
   "metadata": {},
   "source": [
    "The method _remove(element)_ removes the first occurence of an element from the list."
   ]
  },
  {
   "cell_type": "code",
   "execution_count": 12,
   "metadata": {},
   "outputs": [
    {
     "data": {
      "text/plain": [
       "['Oversized Denim Shirt',\n",
       " 'Platform Boots',\n",
       " 'Boxy Puffer Jacket',\n",
       " 'Fine-knit Pencil Skirt',\n",
       " 'Mom High Ankle Jeans',\n",
       " 'Rib-knit Sweater',\n",
       " 'Hairband with Knot',\n",
       " 'Cotton Cargo Joggers',\n",
       " 'Cotton Hoodie',\n",
       " 'Corduroy Overall Dress',\n",
       " 'Patterned Ruffled Dress']"
      ]
     },
     "execution_count": 12,
     "metadata": {},
     "output_type": "execute_result"
    }
   ],
   "source": [
    "most_popular_articles.remove('Water-repellent Shell Jacket')\n",
    "most_popular_articles"
   ]
  },
  {
   "cell_type": "markdown",
   "metadata": {},
   "source": [
    "Modifying an element in a list is a bit different. Instead of applying a method a new element is assigned to an index."
   ]
  },
  {
   "cell_type": "code",
   "execution_count": 13,
   "metadata": {},
   "outputs": [
    {
     "data": {
      "text/plain": [
       "['Denim Shirt',\n",
       " 'Platform Boots',\n",
       " 'Boxy Puffer Jacket',\n",
       " 'Fine-knit Pencil Skirt',\n",
       " 'Mom High Ankle Jeans',\n",
       " 'Rib-knit Sweater',\n",
       " 'Hairband with Knot',\n",
       " 'Cotton Cargo Joggers',\n",
       " 'Cotton Hoodie',\n",
       " 'Corduroy Overall Dress',\n",
       " 'Patterned Ruffled Dress']"
      ]
     },
     "execution_count": 13,
     "metadata": {},
     "output_type": "execute_result"
    }
   ],
   "source": [
    "most_popular_articles[0] = \"Denim Shirt\"\n",
    "most_popular_articles"
   ]
  },
  {
   "cell_type": "markdown",
   "metadata": {},
   "source": [
    "Another important function is _len(list)_. This function returns the number of elements in a list."
   ]
  },
  {
   "cell_type": "code",
   "execution_count": 14,
   "metadata": {},
   "outputs": [
    {
     "data": {
      "text/plain": [
       "11"
      ]
     },
     "execution_count": 14,
     "metadata": {},
     "output_type": "execute_result"
    }
   ],
   "source": [
    "len(most_popular_articles)"
   ]
  },
  {
   "cell_type": "markdown",
   "metadata": {},
   "source": [
    "**Exercise:** The new article [Jersey Shacket](https://www2.hm.com/en_us/productpage.0898694002.html) has raised in popularity and has become one of the most popular articles. We have to keep track of it so add it to the list ```most_popular_articles```."
   ]
  },
  {
   "cell_type": "code",
   "execution_count": null,
   "metadata": {},
   "outputs": [],
   "source": []
  },
  {
   "cell_type": "markdown",
   "metadata": {},
   "source": [
    "**Exercise:** Assume the list ```most_popular_articles``` is ranked. The first article is the most popular, second is the second most popular and so on. This week there was a special offer on all boots. This lead to _Platform Boots_ becoming the most popular article. Could you rearrange the rank in the list?"
   ]
  },
  {
   "cell_type": "code",
   "execution_count": null,
   "metadata": {},
   "outputs": [],
   "source": []
  },
  {
   "cell_type": "markdown",
   "metadata": {},
   "source": [
    "**Exercise:** We have received instructions on that dresses should not be included among the most popular articles. Remove all the dresses from the list."
   ]
  },
  {
   "cell_type": "code",
   "execution_count": null,
   "metadata": {},
   "outputs": [],
   "source": []
  },
  {
   "cell_type": "markdown",
   "metadata": {},
   "source": [
    "**Exercise**: The article [Oversized Denim Shirt](https://www2.hm.com/en_us/productpage.0846399001.html) has been mispelled in the list. Could you modify the name of it?"
   ]
  },
  {
   "cell_type": "code",
   "execution_count": null,
   "metadata": {},
   "outputs": [],
   "source": []
  },
  {
   "cell_type": "markdown",
   "metadata": {},
   "source": [
    "**Exercise:** How many articles are in the list?"
   ]
  },
  {
   "cell_type": "code",
   "execution_count": null,
   "metadata": {},
   "outputs": [],
   "source": []
  },
  {
   "cell_type": "markdown",
   "metadata": {},
   "source": [
    "### 1.4. Sorting a list\n",
    "\n",
    "**Exercise:** Facilitate the search of an article in the list. Sort the articles in alphabetical order by using the function _sorted(list)_. Replace list with the variable that stores your list."
   ]
  },
  {
   "cell_type": "code",
   "execution_count": null,
   "metadata": {},
   "outputs": [],
   "source": []
  },
  {
   "cell_type": "markdown",
   "metadata": {},
   "source": [
    "**Exercise:** Try to sort the articles in reverse by adding a second parameter ```reverse=True``` to the function."
   ]
  },
  {
   "cell_type": "code",
   "execution_count": null,
   "metadata": {},
   "outputs": [],
   "source": []
  },
  {
   "cell_type": "markdown",
   "metadata": {},
   "source": [
    "**Note:** The words methods and functions have been mentioned. They mean the same, but are being used in different contexts. We are going to learn more about it as we progress."
   ]
  },
  {
   "cell_type": "markdown",
   "metadata": {},
   "source": [
    "### 2. Tuples\n",
    "\n",
    "Tuples is another data structure that can store a collection of items. The difference between lists and tuples is that tuples are _immutable_, which means they cannot be modified once created.\n",
    "\n",
    "* a tuple is defined using paranthesis (item1, item2, item3, ...)\n",
    "* each item is separated with a comma \n",
    "* index (position) starts from 0,1,2,..,n"
   ]
  },
  {
   "cell_type": "code",
   "execution_count": 15,
   "metadata": {},
   "outputs": [
    {
     "data": {
      "text/plain": [
       "('Oversized Denim Shirt',\n",
       " 'Platform Boots',\n",
       " 'Fine-knit Pencil Skirt',\n",
       " 'Mom High Ankle Jeans',\n",
       " 'Rib-knit Sweater',\n",
       " 'Hairband with Knot',\n",
       " 'Water-repellent Shell Jacket',\n",
       " 'Cotton Cargo Joggers',\n",
       " 'Cotton Hoodie',\n",
       " 'Corduroy Overall Dress')"
      ]
     },
     "execution_count": 15,
     "metadata": {},
     "output_type": "execute_result"
    }
   ],
   "source": [
    "most_popular_articles = ('Oversized Denim Shirt',\n",
    "                         'Platform Boots',\n",
    "                         'Fine-knit Pencil Skirt',\n",
    "                         'Mom High Ankle Jeans',\n",
    "                         'Rib-knit Sweater',\n",
    "                         'Hairband with Knot',\n",
    "                         'Water-repellent Shell Jacket',\n",
    "                         'Cotton Cargo Joggers',\n",
    "                         'Cotton Hoodie',\n",
    "                         'Corduroy Overall Dress')\n",
    "most_popular_articles"
   ]
  },
  {
   "cell_type": "markdown",
   "metadata": {},
   "source": [
    "### 2.1. Examine a tuple\n",
    "\n",
    "To access an element in a tuple you have to specify:\n",
    "\n",
    "* the variable that stores the tuple\n",
    "* the index of that value"
   ]
  },
  {
   "cell_type": "markdown",
   "metadata": {},
   "source": [
    "What is the **first** article in the tuple?"
   ]
  },
  {
   "cell_type": "code",
   "execution_count": 16,
   "metadata": {},
   "outputs": [
    {
     "data": {
      "text/plain": [
       "'Oversized Denim Shirt'"
      ]
     },
     "execution_count": 16,
     "metadata": {},
     "output_type": "execute_result"
    }
   ],
   "source": [
    "most_popular_articles[0]"
   ]
  },
  {
   "cell_type": "markdown",
   "metadata": {},
   "source": [
    "What is the **third** article in the tuple?"
   ]
  },
  {
   "cell_type": "code",
   "execution_count": null,
   "metadata": {},
   "outputs": [],
   "source": [
    "# Exercise a)\n"
   ]
  },
  {
   "cell_type": "markdown",
   "metadata": {},
   "source": [
    "What is the **sixth** article in the tuple?"
   ]
  },
  {
   "cell_type": "code",
   "execution_count": null,
   "metadata": {},
   "outputs": [],
   "source": [
    "# Exercise b)\n"
   ]
  },
  {
   "cell_type": "markdown",
   "metadata": {},
   "source": [
    "What is the **last** article in the tuple?"
   ]
  },
  {
   "cell_type": "code",
   "execution_count": 17,
   "metadata": {},
   "outputs": [],
   "source": [
    "# Exercise c)"
   ]
  },
  {
   "cell_type": "markdown",
   "metadata": {},
   "source": [
    "### 2.2. Tuple slicing\n",
    "Instead of returning a single element from a tuple, we can also return selected parts of it. The only difference is that an index interval need to be specified."
   ]
  },
  {
   "cell_type": "code",
   "execution_count": 18,
   "metadata": {},
   "outputs": [
    {
     "data": {
      "text/plain": [
       "('Oversized Denim Shirt', 'Platform Boots', 'Fine-knit Pencil Skirt')"
      ]
     },
     "execution_count": 18,
     "metadata": {},
     "output_type": "execute_result"
    }
   ],
   "source": [
    "most_popular_articles[0:3] # from index 0 up to, but not including index 3."
   ]
  },
  {
   "cell_type": "markdown",
   "metadata": {},
   "source": [
    "**Exercise**: Return any five articles in the tuple"
   ]
  },
  {
   "cell_type": "code",
   "execution_count": null,
   "metadata": {},
   "outputs": [],
   "source": []
  },
  {
   "cell_type": "markdown",
   "metadata": {},
   "source": [
    "**Exercise:** Return the first five articles in the tuple"
   ]
  },
  {
   "cell_type": "code",
   "execution_count": null,
   "metadata": {},
   "outputs": [],
   "source": []
  },
  {
   "cell_type": "markdown",
   "metadata": {},
   "source": [
    "**Exercise:** Return the last five articles in the tuple"
   ]
  },
  {
   "cell_type": "code",
   "execution_count": null,
   "metadata": {},
   "outputs": [],
   "source": []
  },
  {
   "cell_type": "markdown",
   "metadata": {},
   "source": [
    "### 2.3. Tuple methods"
   ]
  },
  {
   "cell_type": "markdown",
   "metadata": {},
   "source": [
    "**Exercise:** Modify the name of an article in the tuple. What happens? Why did it happen?"
   ]
  },
  {
   "cell_type": "code",
   "execution_count": null,
   "metadata": {},
   "outputs": [],
   "source": []
  },
  {
   "cell_type": "markdown",
   "metadata": {},
   "source": [
    "### 3. Lists + Tuples\n",
    "Let's combine our knowledge from lists and tuples. So far, we have only stored the name of the most popular articles in the data structures. Usually we want to have more information about an article, for example article number, color, price, size etc. The problem is that it is difficult to store information about multiple articles in a single list or tuple. In the list ```articles```, we have stored both the _article name_ and _article number_ of three different articles."
   ]
  },
  {
   "cell_type": "code",
   "execution_count": 19,
   "metadata": {},
   "outputs": [
    {
     "data": {
      "text/plain": [
       "['Oversized Denim Shirt',\n",
       " 'Platform Boots',\n",
       " '0846399001',\n",
       " '0916256005',\n",
       " '0918836001',\n",
       " 'Fine-knit Pencil Skirt']"
      ]
     },
     "execution_count": 19,
     "metadata": {},
     "output_type": "execute_result"
    }
   ],
   "source": [
    "articles = [\"Oversized Denim Shirt\", \"Platform Boots\", \"0846399001\", \n",
    "            \"0916256005\", \"0918836001\", \"Fine-knit Pencil Skirt\", ]\n",
    "articles"
   ]
  },
  {
   "cell_type": "markdown",
   "metadata": {},
   "source": [
    "How do we know which article name belongs to which article number? It is not very obvious, but one way to solve it is to combine tuples and lists. "
   ]
  },
  {
   "cell_type": "code",
   "execution_count": 20,
   "metadata": {},
   "outputs": [
    {
     "data": {
      "text/plain": [
       "[('0846399001', 'Oversized Denim Shirt'),\n",
       " ('0916256005', 'Platform Boots'),\n",
       " ('0918836001', 'Fine-knit Pencil Skirt')]"
      ]
     },
     "execution_count": 20,
     "metadata": {},
     "output_type": "execute_result"
    }
   ],
   "source": [
    "articles = [(\"0846399001\", \"Oversized Denim Shirt\"),\n",
    "            (\"0916256005\", \"Platform Boots\"),\n",
    "            (\"0918836001\", \"Fine-knit Pencil Skirt\")]\n",
    "articles"
   ]
  },
  {
   "cell_type": "markdown",
   "metadata": {},
   "source": [
    "### 3.1. Examine a list of tuples"
   ]
  },
  {
   "cell_type": "markdown",
   "metadata": {},
   "source": [
    "**Exercise:** What is the last tuple in the list?"
   ]
  },
  {
   "cell_type": "code",
   "execution_count": null,
   "metadata": {},
   "outputs": [],
   "source": []
  },
  {
   "cell_type": "markdown",
   "metadata": {},
   "source": [
    "**Exercise**: Use the list to access the article name _Platform Boots_"
   ]
  },
  {
   "cell_type": "code",
   "execution_count": null,
   "metadata": {},
   "outputs": [],
   "source": []
  },
  {
   "cell_type": "markdown",
   "metadata": {},
   "source": [
    "### 3.2. List methods"
   ]
  },
  {
   "cell_type": "markdown",
   "metadata": {},
   "source": [
    "**Exercise:** [Fine-knit Turtleneck Sweater](https://www2.hm.com/en_us/productpage.0715828011.html) is an article we are interested in looking more into. Add it to the list ```articles```."
   ]
  },
  {
   "cell_type": "code",
   "execution_count": null,
   "metadata": {},
   "outputs": [],
   "source": []
  },
  {
   "cell_type": "markdown",
   "metadata": {},
   "source": [
    "**Exercise:** [Transparent Eyeglasses](https://www2.hm.com/en_us/productpage.0937862001.html) is another article we are highly interested in. Add it to the first index in the list."
   ]
  },
  {
   "cell_type": "code",
   "execution_count": null,
   "metadata": {},
   "outputs": [],
   "source": []
  },
  {
   "cell_type": "markdown",
   "metadata": {},
   "source": [
    "**Exercise:** The [Fine-knit Pencil Skirt](https://www2.hm.com/en_us/productpage.0918836001.html) belongs to a special collection and will soon no longer be on sale. Remove it from the list."
   ]
  },
  {
   "cell_type": "code",
   "execution_count": null,
   "metadata": {},
   "outputs": [],
   "source": []
  },
  {
   "cell_type": "markdown",
   "metadata": {},
   "source": [
    "**Exercise:** Replace the [Platform Boots](https://www2.hm.com/en_us/productpage.0916256005.html) with [High Profile Chelsea Boots](https://www2.hm.com/en_us/productpage.0898889002.html) in the list."
   ]
  },
  {
   "cell_type": "code",
   "execution_count": null,
   "metadata": {},
   "outputs": [],
   "source": []
  },
  {
   "cell_type": "markdown",
   "metadata": {},
   "source": [
    "### 4. Lists + Lists\n",
    "We have seen that we can store different datatypes and tuples in a list, but we can also store multiple lists in a list."
   ]
  },
  {
   "cell_type": "code",
   "execution_count": 21,
   "metadata": {},
   "outputs": [
    {
     "data": {
      "text/plain": [
       "[['0846399001', 'Oversized Denim Shirt'],\n",
       " ['0916256005', 'Platform Boots'],\n",
       " ['0918836001', 'Fine-knit Pencil Skirt']]"
      ]
     },
     "execution_count": 21,
     "metadata": {},
     "output_type": "execute_result"
    }
   ],
   "source": [
    "articles = [[\"0846399001\", \"Oversized Denim Shirt\"],\n",
    "            [\"0916256005\", \"Platform Boots\"],\n",
    "            [\"0918836001\", \"Fine-knit Pencil Skirt\"]]\n",
    "articles"
   ]
  },
  {
   "cell_type": "markdown",
   "metadata": {},
   "source": [
    "### 4.1. Examine a list of lists"
   ]
  },
  {
   "cell_type": "markdown",
   "metadata": {},
   "source": [
    "**Exercise:** What is the second list in the list?"
   ]
  },
  {
   "cell_type": "code",
   "execution_count": null,
   "metadata": {},
   "outputs": [],
   "source": []
  },
  {
   "cell_type": "markdown",
   "metadata": {},
   "source": [
    "**Exercise:** Use the list to access the article name _Fine-knit Pencil Skirt_"
   ]
  },
  {
   "cell_type": "code",
   "execution_count": null,
   "metadata": {},
   "outputs": [],
   "source": []
  },
  {
   "cell_type": "markdown",
   "metadata": {},
   "source": [
    "### 4.2. List methods"
   ]
  },
  {
   "cell_type": "markdown",
   "metadata": {},
   "source": [
    "**Exercise:** [Fine-knit Turtleneck Sweater](https://www2.hm.com/en_us/productpage.0715828011.html) is an article we are interested in looking more into. Add it to the list ```articles```."
   ]
  },
  {
   "cell_type": "code",
   "execution_count": null,
   "metadata": {},
   "outputs": [],
   "source": []
  },
  {
   "cell_type": "markdown",
   "metadata": {},
   "source": [
    "**Exercise:** [Transparent Eyeglasses](https://www2.hm.com/en_us/productpage.0937862001.html) is another article we are highly interested in. Add it to the first index in the list."
   ]
  },
  {
   "cell_type": "code",
   "execution_count": null,
   "metadata": {},
   "outputs": [],
   "source": []
  },
  {
   "cell_type": "markdown",
   "metadata": {},
   "source": [
    "**Exercise:** The [Fine-knit Pencil Skirt](https://www2.hm.com/en_us/productpage.0918836001.html) belongs to a special collection and will soon no longer be on sale. Remove it from the list."
   ]
  },
  {
   "cell_type": "code",
   "execution_count": null,
   "metadata": {},
   "outputs": [],
   "source": []
  },
  {
   "cell_type": "markdown",
   "metadata": {},
   "source": [
    "**Exercise:** Replace the [Platform Boots](https://www2.hm.com/en_us/productpage.0916256005.html) with [High Profile Chelsea Boots](https://www2.hm.com/en_us/productpage.0898889002.html) in the list."
   ]
  },
  {
   "cell_type": "code",
   "execution_count": null,
   "metadata": {},
   "outputs": [],
   "source": []
  },
  {
   "cell_type": "markdown",
   "metadata": {},
   "source": [
    "### 5. For Loops\n",
    "There are times we want to repeat the same code multiple times or apply the same changes to each element in a list. To perform this we use for loops. Let's look at an example using the list with the most popular articles."
   ]
  },
  {
   "cell_type": "code",
   "execution_count": 22,
   "metadata": {},
   "outputs": [
    {
     "data": {
      "text/plain": [
       "['Oversized Denim Shirt',\n",
       " 'Platform Boots',\n",
       " 'Fine-knit Pencil Skirt',\n",
       " 'Mom High Ankle Jeans',\n",
       " 'Rib-knit Sweater',\n",
       " 'Hairband with Knot',\n",
       " 'Water-repellent Shell Jacket',\n",
       " 'Cotton Cargo Joggers',\n",
       " 'Cotton Hoodie',\n",
       " 'Corduroy Overall Dress']"
      ]
     },
     "execution_count": 22,
     "metadata": {},
     "output_type": "execute_result"
    }
   ],
   "source": [
    "most_popular_articles = ['Oversized Denim Shirt',\n",
    "                         'Platform Boots',\n",
    "                         'Fine-knit Pencil Skirt',\n",
    "                         'Mom High Ankle Jeans',\n",
    "                         'Rib-knit Sweater',\n",
    "                         'Hairband with Knot',\n",
    "                         'Water-repellent Shell Jacket',\n",
    "                         'Cotton Cargo Joggers',\n",
    "                         'Cotton Hoodie',\n",
    "                         'Corduroy Overall Dress']\n",
    "most_popular_articles"
   ]
  },
  {
   "cell_type": "markdown",
   "metadata": {},
   "source": [
    "How to read for loops:\n",
    "* For every article in the list ```most_popular_articles```\n",
    "    * Compute the length (number of characters) of the article name and print the article name and its length"
   ]
  },
  {
   "cell_type": "code",
   "execution_count": 23,
   "metadata": {},
   "outputs": [
    {
     "name": "stdout",
     "output_type": "stream",
     "text": [
      "Oversized Denim Shirt 21\n",
      "Platform Boots 14\n",
      "Fine-knit Pencil Skirt 22\n",
      "Mom High Ankle Jeans 20\n",
      "Rib-knit Sweater 16\n",
      "Hairband with Knot 18\n",
      "Water-repellent Shell Jacket 28\n",
      "Cotton Cargo Joggers 20\n",
      "Cotton Hoodie 13\n",
      "Corduroy Overall Dress 22\n"
     ]
    }
   ],
   "source": [
    "for article in most_popular_articles:\n",
    "    print(article, len(article))"
   ]
  },
  {
   "cell_type": "markdown",
   "metadata": {},
   "source": [
    "**Note:** The variable _article_ can be called anything. You can think of the variable as a \"pointer\" that points to the first, second, third,.. element in the list. To prove this let's change the name of that variable."
   ]
  },
  {
   "cell_type": "code",
   "execution_count": 24,
   "metadata": {},
   "outputs": [
    {
     "name": "stdout",
     "output_type": "stream",
     "text": [
      "Oversized Denim Shirt 21\n",
      "Platform Boots 14\n",
      "Fine-knit Pencil Skirt 22\n",
      "Mom High Ankle Jeans 20\n",
      "Rib-knit Sweater 16\n",
      "Hairband with Knot 18\n",
      "Water-repellent Shell Jacket 28\n",
      "Cotton Cargo Joggers 20\n",
      "Cotton Hoodie 13\n",
      "Corduroy Overall Dress 22\n"
     ]
    }
   ],
   "source": [
    "for i in most_popular_articles:\n",
    "    print(i, len(i))"
   ]
  },
  {
   "cell_type": "markdown",
   "metadata": {},
   "source": [
    "For loops can be combined with conditional statements and comparisons. \n",
    "* For every article in the list ```most_popular_articles```\n",
    "    * Compute the length of the article and save the value in ```nbr_chars```\n",
    "    * If the length is larger than 20\n",
    "        * Print the name of the article and its length"
   ]
  },
  {
   "cell_type": "code",
   "execution_count": 25,
   "metadata": {},
   "outputs": [
    {
     "name": "stdout",
     "output_type": "stream",
     "text": [
      "Oversized Denim Shirt 21\n",
      "Fine-knit Pencil Skirt 22\n",
      "Water-repellent Shell Jacket 28\n",
      "Corduroy Overall Dress 22\n"
     ]
    }
   ],
   "source": [
    "for article in most_popular_articles:\n",
    "    nbr_chars = len(article) \n",
    "    if nbr_chars > 20:\n",
    "        print(article, nbr_chars)"
   ]
  },
  {
   "cell_type": "markdown",
   "metadata": {},
   "source": [
    "For loops can also be combined with another for loop\n",
    "\n",
    "* For every article in the list ```most_popular_articles```\n",
    "    * Compute the length of the article and save the value in ```nbr_chars```\n",
    "    * If the length is larger than 20\n",
    "        * Go through another list. For every number in list [1, 2] \n",
    "            * Print the number, name of the article and its length"
   ]
  },
  {
   "cell_type": "code",
   "execution_count": 26,
   "metadata": {},
   "outputs": [
    {
     "name": "stdout",
     "output_type": "stream",
     "text": [
      "1 Oversized Denim Shirt 21\n",
      "2 Oversized Denim Shirt 21\n",
      "1 Fine-knit Pencil Skirt 22\n",
      "2 Fine-knit Pencil Skirt 22\n",
      "1 Water-repellent Shell Jacket 28\n",
      "2 Water-repellent Shell Jacket 28\n",
      "1 Corduroy Overall Dress 22\n",
      "2 Corduroy Overall Dress 22\n"
     ]
    }
   ],
   "source": [
    "for article in most_popular_articles:\n",
    "    nbr_chars = len(article) \n",
    "    if nbr_chars > 20:\n",
    "        for nbr in [1, 2]:\n",
    "            print(nbr, article, nbr_chars)"
   ]
  },
  {
   "cell_type": "markdown",
   "metadata": {},
   "source": [
    "---\n",
    "When working with data it is very common the information is spread out at different places. A common first step is to build a table (let's call lists in list a table for now) that contains all the information we are interested in. Let's use ```article_table``` as our base table in the following exercises."
   ]
  },
  {
   "cell_type": "code",
   "execution_count": 27,
   "metadata": {},
   "outputs": [
    {
     "data": {
      "text/plain": [
       "[['0846399001', 'Oversized Denim Shirt'],\n",
       " ['0916256005', 'Platform Boots'],\n",
       " ['0918836001', 'Fine-knit Pencil Skirt']]"
      ]
     },
     "execution_count": 27,
     "metadata": {},
     "output_type": "execute_result"
    }
   ],
   "source": [
    "# [\"article_number\", \"article_name\"]\n",
    "article_table = [[\"0846399001\", \"Oversized Denim Shirt\"],\n",
    "                 [\"0916256005\", \"Platform Boots\"],\n",
    "                 [\"0918836001\", \"Fine-knit Pencil Skirt\"]]\n",
    "article_table"
   ]
  },
  {
   "cell_type": "markdown",
   "metadata": {},
   "source": [
    "The first information we want to add to our base table is the _stock_, but before doing that we have to make sure the stock table is reasonable. An issue that may occur are negative stock values. Keeping negative stock values can have an impact on coming analysis, so let's remove it."
   ]
  },
  {
   "cell_type": "code",
   "execution_count": 28,
   "metadata": {},
   "outputs": [
    {
     "data": {
      "text/plain": [
       "[['0846399001', 10],\n",
       " ['0916256005', 20],\n",
       " ['0807725990', -1],\n",
       " ['0918836001', 15]]"
      ]
     },
     "execution_count": 28,
     "metadata": {},
     "output_type": "execute_result"
    }
   ],
   "source": [
    "# [article_numer, stock]\n",
    "stock_table = [[\"0846399001\", 10],\n",
    "               [\"0916256005\", 20],\n",
    "               [\"0807725990\", -1],\n",
    "               [\"0918836001\", 15]]\n",
    "stock_table"
   ]
  },
  {
   "cell_type": "markdown",
   "metadata": {},
   "source": [
    "**Exercise:** Filter out the negative stock values."
   ]
  },
  {
   "cell_type": "code",
   "execution_count": null,
   "metadata": {},
   "outputs": [],
   "source": [
    "\n",
    "\n"
   ]
  },
  {
   "cell_type": "markdown",
   "metadata": {},
   "source": [
    "**Exercise:** Add stock from ```stock_table``` to ```article_table```"
   ]
  },
  {
   "cell_type": "code",
   "execution_count": null,
   "metadata": {},
   "outputs": [],
   "source": [
    "\n",
    "\n"
   ]
  },
  {
   "cell_type": "markdown",
   "metadata": {},
   "source": [
    "The second information we want to add to the base table is the sales information from the ```sales_table```."
   ]
  },
  {
   "cell_type": "code",
   "execution_count": 29,
   "metadata": {},
   "outputs": [],
   "source": [
    "# [article_number, total_net_sales, pieces]\n",
    "sales_table = [[\"0846399001\", 300, 5],\n",
    "               [\"0916256005\", 600, 15],\n",
    "               [\"0918836001\", 400, 10]]"
   ]
  },
  {
   "cell_type": "markdown",
   "metadata": {},
   "source": [
    "**Exercise:** Add total_net_sales and pieces from ```sales_table``` to ```article_table```."
   ]
  },
  {
   "cell_type": "code",
   "execution_count": null,
   "metadata": {},
   "outputs": [],
   "source": [
    "\n",
    "\n"
   ]
  },
  {
   "cell_type": "markdown",
   "metadata": {},
   "source": [
    "**Exercise:** Compute the _net price_ (total_net_sales/pieces) and add it to ```article_table```."
   ]
  },
  {
   "cell_type": "code",
   "execution_count": null,
   "metadata": {},
   "outputs": [],
   "source": [
    "\n",
    "\n"
   ]
  }
 ],
 "metadata": {
  "kernelspec": {
   "display_name": "Python 3",
   "language": "python",
   "name": "python3"
  },
  "language_info": {
   "codemirror_mode": {
    "name": "ipython",
    "version": 3
   },
   "file_extension": ".py",
   "mimetype": "text/x-python",
   "name": "python",
   "nbconvert_exporter": "python",
   "pygments_lexer": "ipython3",
   "version": "3.6.5"
  }
 },
 "nbformat": 4,
 "nbformat_minor": 2
}
