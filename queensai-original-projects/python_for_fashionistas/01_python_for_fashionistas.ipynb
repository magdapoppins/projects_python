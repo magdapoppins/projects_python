{
 "cells": [
  {
   "cell_type": "markdown",
   "metadata": {},
   "source": [
    "# Python for Fashionistas - Part 1"
   ]
  },
  {
   "cell_type": "markdown",
   "metadata": {},
   "source": [
    "![shopaholic](images/fashionista.png)"
   ]
  },
  {
   "cell_type": "markdown",
   "metadata": {},
   "source": [
    "## Jupyter Notebook\n",
    "To get started with Jupyter Notebook you can read the section __Creating a Notebook__ in the following link:\n",
    "\n",
    "https://realpython.com/jupyter-notebook-introduction/"
   ]
  },
  {
   "cell_type": "markdown",
   "metadata": {},
   "source": [
    "## Why learn Python?\n",
    "\n",
    "Watch ```Lession 1: Why Python Programming?``` to figure it out!"
   ]
  },
  {
   "cell_type": "markdown",
   "metadata": {},
   "source": [
    "## Part 1\n",
    "The following sections will be a _complement_ with real life applications to the course on Udacity. It is recommended to go through the subsections data types, variables, arithmetic operators, comparisons and boolean operators after watching ```Lesson 2: Data Types and Operators``` and conditions after watching 1-9 of ```Lesson 4: Control Flow```.\n",
    "\n",
    "### 1. Data Types\n",
    "Data type is an important concept in programming. There are multiple data types, but we are going to focus on the most common and simple ones:\n",
    "* __int__ \n",
    "* __float__\n",
    "* __String__\n",
    "* __Boolean__"
   ]
  },
  {
   "cell_type": "markdown",
   "metadata": {},
   "source": [
    "### 2. Variables\n",
    "\n",
    "#### What is it?\n",
    "A variable is a reserved memory location to store values\n",
    "\n",
    "#### Good to remember when naming variables\n",
    "* the name should reflect the meaning of its contents\n",
    "* the name should start with a letter\n",
    "* cannot start with a number\n",
    "* only alpha-numeric characters (A-z & 0-9) and underscores\n",
    "* case sensitive, Age and AGE are different\n",
    "* snake case is the preferred naming convention (lowercase and underscores)"
   ]
  },
  {
   "cell_type": "markdown",
   "metadata": {},
   "source": [
    "### 2.1. Create variables\n",
    "\n",
    "Time to start the fashion journey! Let's start with trying out the [Oversized Denim Shirt](https://www2.hm.com/en_us/productpage.0846399001.html). What kind of information can be stored in variables? Create four variables with descriptive names that store four values of different data types."
   ]
  },
  {
   "cell_type": "code",
   "execution_count": null,
   "metadata": {},
   "outputs": [],
   "source": [
    "# int\n"
   ]
  },
  {
   "cell_type": "code",
   "execution_count": null,
   "metadata": {},
   "outputs": [],
   "source": [
    "# float\n"
   ]
  },
  {
   "cell_type": "code",
   "execution_count": null,
   "metadata": {},
   "outputs": [],
   "source": [
    "# String\n"
   ]
  },
  {
   "cell_type": "code",
   "execution_count": null,
   "metadata": {},
   "outputs": [],
   "source": [
    "# boolean\n"
   ]
  },
  {
   "cell_type": "markdown",
   "metadata": {},
   "source": [
    "__Interesting__: The size of a memory location depends on what you store in it. In some programming languages you have to explicitly tell the computer what you want to store in a variable, so it can reserve the right amount of memory. However, in Python you don't have to do that. You just assign a value to a variable and it will automatically find out what you have stored and reserve a memory location for that value. \n",
    "\n",
    "You can try it out typing __type(variable_name)__! Replace variable_name with the variable names you have slected above."
   ]
  },
  {
   "cell_type": "code",
   "execution_count": null,
   "metadata": {},
   "outputs": [],
   "source": [
    "# int\n"
   ]
  },
  {
   "cell_type": "code",
   "execution_count": 2,
   "metadata": {},
   "outputs": [],
   "source": [
    "# float\n"
   ]
  },
  {
   "cell_type": "code",
   "execution_count": 3,
   "metadata": {},
   "outputs": [],
   "source": [
    "# String\n"
   ]
  },
  {
   "cell_type": "code",
   "execution_count": null,
   "metadata": {},
   "outputs": [],
   "source": [
    "# boolean\n"
   ]
  },
  {
   "cell_type": "markdown",
   "metadata": {},
   "source": [
    "Does Python return the expected datatypes?"
   ]
  },
  {
   "cell_type": "markdown",
   "metadata": {},
   "source": [
    "### 3. Arithmetic operators\n",
    "\n",
    "A variable's value can be changed with arithmetic operators. This can be explored in the shopping bag."
   ]
  },
  {
   "cell_type": "code",
   "execution_count": 1,
   "metadata": {},
   "outputs": [
    {
     "data": {
      "text/plain": [
       "0"
      ]
     },
     "execution_count": 1,
     "metadata": {},
     "output_type": "execute_result"
    }
   ],
   "source": [
    "# Start with an empty shopping bag\n",
    "shopping_bag_price = 0\n",
    "shopping_bag_price"
   ]
  },
  {
   "cell_type": "markdown",
   "metadata": {},
   "source": [
    "Assume we liked the [Oversized Denim Shirt](https://www2.hm.com/en_us/productpage.0846399001.html). Let's add it to the shopping bag and **increase** the price of it from **\\$0** to **\\$29.99**."
   ]
  },
  {
   "cell_type": "code",
   "execution_count": 4,
   "metadata": {},
   "outputs": [
    {
     "data": {
      "text/plain": [
       "29.99"
      ]
     },
     "execution_count": 4,
     "metadata": {},
     "output_type": "execute_result"
    }
   ],
   "source": [
    "shopping_bag_price = shopping_bag_price + 29.99\n",
    "shopping_bag_price"
   ]
  },
  {
   "cell_type": "markdown",
   "metadata": {},
   "source": [
    "We need a pair of boots to combine with the shirt too! How about [Platform Boots](https://www2.hm.com/en_us/productpage.0916256005.html)? Let's add it to the shopping bag and **increase** the price of it with **\\$39.99**."
   ]
  },
  {
   "cell_type": "code",
   "execution_count": null,
   "metadata": {},
   "outputs": [],
   "source": [
    "# Exercise a) \n",
    "\n"
   ]
  },
  {
   "cell_type": "markdown",
   "metadata": {},
   "source": [
    "Actually, the boots are too pricey. Let's remove them from the shopping bag and **decrease** the price of it with **\\$39.99**."
   ]
  },
  {
   "cell_type": "code",
   "execution_count": null,
   "metadata": {},
   "outputs": [],
   "source": [
    "# Exercise b) \n",
    "\n"
   ]
  },
  {
   "cell_type": "markdown",
   "metadata": {},
   "source": [
    "Luckily, we found another pair of similar boots with the same price tag for **30% discount**. Add them to the shopping bag."
   ]
  },
  {
   "cell_type": "code",
   "execution_count": 5,
   "metadata": {},
   "outputs": [],
   "source": [
    "# Exercise c)\n",
    "\n"
   ]
  },
  {
   "cell_type": "markdown",
   "metadata": {},
   "source": [
    "__Summary__: In the exercises, the four most basic arithmetic operators were applied to explore the change of a variable's value. The final value should be **\\$28.99**."
   ]
  },
  {
   "cell_type": "markdown",
   "metadata": {},
   "source": [
    "### 4. Comparisons\n",
    "Values can be compared."
   ]
  },
  {
   "cell_type": "code",
   "execution_count": 8,
   "metadata": {},
   "outputs": [],
   "source": [
    "ordered_pieces = 10 # You can explore with other values and rerun the cells below"
   ]
  },
  {
   "cell_type": "markdown",
   "metadata": {},
   "source": [
    "Assume an online warehouse needs help with gauranteeing the number of ordered pieces does not exceed stock."
   ]
  },
  {
   "cell_type": "code",
   "execution_count": 9,
   "metadata": {},
   "outputs": [
    {
     "data": {
      "text/plain": [
       "False"
      ]
     },
     "execution_count": 9,
     "metadata": {},
     "output_type": "execute_result"
    }
   ],
   "source": [
    "ordered_pieces < 10 # Less than 10"
   ]
  },
  {
   "cell_type": "code",
   "execution_count": 10,
   "metadata": {},
   "outputs": [
    {
     "data": {
      "text/plain": [
       "True"
      ]
     },
     "execution_count": 10,
     "metadata": {},
     "output_type": "execute_result"
    }
   ],
   "source": [
    "ordered_pieces <= 10 # Less than or equal to 10"
   ]
  },
  {
   "cell_type": "code",
   "execution_count": 11,
   "metadata": {},
   "outputs": [
    {
     "data": {
      "text/plain": [
       "True"
      ]
     },
     "execution_count": 11,
     "metadata": {},
     "output_type": "execute_result"
    }
   ],
   "source": [
    "ordered_pieces != 20 # Not equal to 20"
   ]
  },
  {
   "cell_type": "code",
   "execution_count": 12,
   "metadata": {},
   "outputs": [
    {
     "data": {
      "text/plain": [
       "False"
      ]
     },
     "execution_count": 12,
     "metadata": {},
     "output_type": "execute_result"
    }
   ],
   "source": [
    "ordered_pieces == 20 # Equal to 20"
   ]
  },
  {
   "cell_type": "markdown",
   "metadata": {},
   "source": [
    "__Note:__ Feel free modify and explore the comparisons!"
   ]
  },
  {
   "cell_type": "markdown",
   "metadata": {},
   "source": [
    "### 5. Boolean operations"
   ]
  },
  {
   "cell_type": "code",
   "execution_count": 13,
   "metadata": {},
   "outputs": [],
   "source": [
    "ordered_pieces = 10 # You can explore with other values and rerun the cells below"
   ]
  },
  {
   "cell_type": "markdown",
   "metadata": {},
   "source": [
    "```and```returns True if both comparisons are true"
   ]
  },
  {
   "cell_type": "code",
   "execution_count": 14,
   "metadata": {},
   "outputs": [
    {
     "data": {
      "text/plain": [
       "False"
      ]
     },
     "execution_count": 14,
     "metadata": {},
     "output_type": "execute_result"
    }
   ],
   "source": [
    "ordered_pieces <= 10 and ordered_pieces > 10"
   ]
  },
  {
   "cell_type": "markdown",
   "metadata": {},
   "source": [
    "```or``` returns True if one comparison is true"
   ]
  },
  {
   "cell_type": "code",
   "execution_count": 15,
   "metadata": {},
   "outputs": [
    {
     "data": {
      "text/plain": [
       "True"
      ]
     },
     "execution_count": 15,
     "metadata": {},
     "output_type": "execute_result"
    }
   ],
   "source": [
    "ordered_pieces <= 10 or ordered_pieces > 10"
   ]
  },
  {
   "cell_type": "markdown",
   "metadata": {},
   "source": [
    "__Note:__ Feel free modify and explore the boolean operations!"
   ]
  },
  {
   "cell_type": "markdown",
   "metadata": {},
   "source": [
    "### 6. Conditional statements\n",
    "\n",
    "Conditional statements can be combined together with comparisons to decide what do to do when a comparison returns true or false. We are going to learn three different type of conditional statements."
   ]
  },
  {
   "cell_type": "code",
   "execution_count": 16,
   "metadata": {},
   "outputs": [],
   "source": [
    "ordered_pieces = 10"
   ]
  },
  {
   "cell_type": "markdown",
   "metadata": {},
   "source": [
    "**if statement**"
   ]
  },
  {
   "cell_type": "code",
   "execution_count": 17,
   "metadata": {},
   "outputs": [
    {
     "name": "stdout",
     "output_type": "stream",
     "text": [
      "There are enough pieces in stock.\n"
     ]
    }
   ],
   "source": [
    "stock = 20 # You can explore with other values\n",
    "\n",
    "if ordered_pieces < stock:\n",
    "    print(\"There are enough pieces in stock.\")"
   ]
  },
  {
   "cell_type": "markdown",
   "metadata": {},
   "source": [
    "**if/else statement**"
   ]
  },
  {
   "cell_type": "code",
   "execution_count": 18,
   "metadata": {},
   "outputs": [
    {
     "name": "stdout",
     "output_type": "stream",
     "text": [
      "There are not enough pieces in stock.\n"
     ]
    }
   ],
   "source": [
    "stock = 5 # You can explore with other values\n",
    "\n",
    "if ordered_pieces < stock:\n",
    "    print(\"There are enough pieces in stock.\")\n",
    "else:\n",
    "    print(\"There are not enough pieces in stock.\")"
   ]
  },
  {
   "cell_type": "markdown",
   "metadata": {},
   "source": [
    "**if/elif/else statement**"
   ]
  },
  {
   "cell_type": "code",
   "execution_count": 20,
   "metadata": {},
   "outputs": [
    {
     "name": "stdout",
     "output_type": "stream",
     "text": [
      "There are just enough pieces in stock\n"
     ]
    }
   ],
   "source": [
    "stock = 10 # You can explore with other values\n",
    "\n",
    "if ordered_pieces < stock:\n",
    "    print(\"There are enough pieces in stock.\")\n",
    "elif ordered_pieces == stock:\n",
    "    print(\"There are just enough pieces in stock\")\n",
    "else:\n",
    "    print(\"There are not enough pieces in stock.\")"
   ]
  },
  {
   "cell_type": "markdown",
   "metadata": {},
   "source": [
    "**Note:** \n",
    "* a colon (:) needs to be added after each conditional statement\n",
    "* the indentation is important in Python\n",
    "* conditional statements can also be combined with boolean operations"
   ]
  },
  {
   "cell_type": "markdown",
   "metadata": {},
   "source": [
    "---\n",
    "**Exercise:** The stock of an article may vary depending on which city store you are visiting. Write a program using conditional statements and boolean operations to verify if the specified number of pieces can be ordered.\n",
    "\n",
    "* In **Stockholm**, there are **18 pieces** in stock.\n",
    "* In **Malmö**, there are **12 pieces** in stock.\n",
    "\n",
    "The user should be able to select the number of _ordered pieces_ and which _city_ the store is located."
   ]
  },
  {
   "cell_type": "code",
   "execution_count": null,
   "metadata": {},
   "outputs": [],
   "source": [
    "# Exercise a)\n",
    "\n",
    "# Create a variable to store number of pieces\n",
    "\n",
    "# Create a variable to store city\n",
    "\n",
    "# Write your code with conditional statements below\n",
    "\n",
    "\n",
    "\n",
    "\n",
    "\n"
   ]
  },
  {
   "cell_type": "markdown",
   "metadata": {},
   "source": [
    "**Exercise:** How much does an article cost when it is on sale and not on sale? Write a program using conditional statements and comparisons/boolean operations to help your colleauges in the store with finding the regular and discounted price of an article.\n",
    "\n",
    "* [Oversized Denim Shirt](https://www2.hm.com/en_us/productpage.0846399001.html): Regular price: 30 USD | Discounted price: 20 USD\n",
    "\n",
    "The user should be able to select _article name_ and if the product is _on sale_."
   ]
  },
  {
   "cell_type": "code",
   "execution_count": 21,
   "metadata": {},
   "outputs": [],
   "source": [
    "# Exercise b)\n",
    "\n"
   ]
  },
  {
   "cell_type": "markdown",
   "metadata": {},
   "source": [
    "**Exercise:** Your colleagues in the store loves your program and would like to extend it with one more article. \n",
    "\n",
    "* [Oversized Denim Shirt](https://www2.hm.com/en_us/productpage.0846399001.html): Regular price: 30 USD | Discounted price: 20 USD\n",
    "* [Platform Boots](https://www2.hm.com/en_us/productpage.0916256005.html): Regular price: 40 USD | Discounted price: 25 USD\n",
    "\n",
    "The user should be able to select _article name_ and if the product is _on sale_."
   ]
  },
  {
   "cell_type": "code",
   "execution_count": null,
   "metadata": {},
   "outputs": [],
   "source": [
    "# Exercise c)\n",
    "\n"
   ]
  },
  {
   "cell_type": "markdown",
   "metadata": {},
   "source": [
    "**Exercise:** At the moment your program can only find the prices of two articles. You will develop this further on, but for now let's tell the user that if another article is being selected it does not exist.\n",
    "\n",
    "* [Oversized Denim Shirt](https://www2.hm.com/en_us/productpage.0846399001.html): Regular price: 30 USD | Discounted price: 20 USD\n",
    "* [Platform Boots](https://www2.hm.com/en_us/productpage.0916256005.html): Regular price: 40 USD | Discounted price: 25 USD\n",
    "* Otherwise, the article does not exist.\n",
    "\n",
    "The user should be able to select _article name_ and if the product is _on sale_."
   ]
  },
  {
   "cell_type": "code",
   "execution_count": null,
   "metadata": {},
   "outputs": [],
   "source": [
    "# Exercise d)\n",
    "\n"
   ]
  }
 ],
 "metadata": {
  "kernelspec": {
   "display_name": "Python 3",
   "language": "python",
   "name": "python3"
  },
  "language_info": {
   "codemirror_mode": {
    "name": "ipython",
    "version": 3
   },
   "file_extension": ".py",
   "mimetype": "text/x-python",
   "name": "python",
   "nbconvert_exporter": "python",
   "pygments_lexer": "ipython3",
   "version": "3.6.5"
  }
 },
 "nbformat": 4,
 "nbformat_minor": 2
}
