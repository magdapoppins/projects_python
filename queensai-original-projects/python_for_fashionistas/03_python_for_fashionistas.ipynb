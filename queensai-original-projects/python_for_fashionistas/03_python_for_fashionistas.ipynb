{
 "cells": [
  {
   "cell_type": "markdown",
   "metadata": {},
   "source": [
    "# Python for Fashionistas - Part 3"
   ]
  },
  {
   "cell_type": "markdown",
   "metadata": {},
   "source": [
    "![fashionista](images/fashionista.png)"
   ]
  },
  {
   "cell_type": "markdown",
   "metadata": {},
   "source": [
    "## Part 3\n",
    "\n",
    "The following sections will be a _complement_ with examples of real life applications to the course on Udacity. It is recommended to go through the subsections dictionaries and sets after watching 11-25 of ```Lesson 3: Data Structures``` and 16-35 of ```Lesson 4: Control Flow```.\n",
    "\n",
    "### 1. Dictionaries\n",
    "\n",
    "Another way to store a collection of elements is to use the data structure dictionaries. What differs dictionaries from lists and tuples is that we store key-value pairs instead of only values. \n",
    "\n",
    "* dictionary is a data structure that can store a collection of key-value pairs\n",
    "* defined using curly brackets {key1: value1, key2: value2,...}\n",
    "* a colon (:) separates each key from its associated value\n",
    "* each key-value pair is separated by a comma\n",
    "\n",
    "One way to understand how dictionaries work is to think of a word dictionary. The word you are looking for is refered to as the key and the definition of the word is refered to as the value. Let's try it out!"
   ]
  },
  {
   "cell_type": "code",
   "execution_count": 1,
   "metadata": {},
   "outputs": [
    {
     "data": {
      "text/plain": [
       "{'0846399001': 'Oversized Denim Shirt',\n",
       " '0916256005': 'Platform Boots',\n",
       " '0918836001': 'Fine-knit Pencil Skirt'}"
      ]
     },
     "execution_count": 1,
     "metadata": {},
     "output_type": "execute_result"
    }
   ],
   "source": [
    "article_info = {\"0846399001\": \"Oversized Denim Shirt\",\n",
    "                \"0916256005\": \"Platform Boots\",\n",
    "                \"0918836001\": \"Fine-knit Pencil Skirt\"}\n",
    "article_info"
   ]
  },
  {
   "cell_type": "markdown",
   "metadata": {},
   "source": [
    "### 1.1 Examine a dictionary\n",
    "\n",
    "To access a value in a dictionary you have to specify:\n",
    "\n",
    "* the variable that stores the dictionary\n",
    "* the name of the key"
   ]
  },
  {
   "cell_type": "code",
   "execution_count": 2,
   "metadata": {},
   "outputs": [
    {
     "data": {
      "text/plain": [
       "'Oversized Denim Shirt'"
      ]
     },
     "execution_count": 2,
     "metadata": {},
     "output_type": "execute_result"
    }
   ],
   "source": [
    "article_info[\"0846399001\"]"
   ]
  },
  {
   "cell_type": "markdown",
   "metadata": {},
   "source": [
    "**Exercise:** Access the second value in the dictionary."
   ]
  },
  {
   "cell_type": "code",
   "execution_count": null,
   "metadata": {},
   "outputs": [],
   "source": []
  },
  {
   "cell_type": "markdown",
   "metadata": {},
   "source": [
    "**Exercise:** Access the third value in the dictionary."
   ]
  },
  {
   "cell_type": "code",
   "execution_count": null,
   "metadata": {},
   "outputs": [],
   "source": []
  },
  {
   "cell_type": "markdown",
   "metadata": {},
   "source": [
    "### 1.2. Modify a dictionary\n",
    "\n",
    "In Python dictionaries are known for being _mutable_ which means we can modify the content in it, including changing the number of elements. To modify a dictionary you have to specify:\n",
    "\n",
    "* the dictionary to modify\n",
    "* the name of the key\n",
    "* the value"
   ]
  },
  {
   "cell_type": "markdown",
   "metadata": {},
   "source": [
    "If a key does _not_ exist in the dictionary, it will be added as a new key-value pair."
   ]
  },
  {
   "cell_type": "code",
   "execution_count": 3,
   "metadata": {},
   "outputs": [
    {
     "data": {
      "text/plain": [
       "{'0846399001': 'Oversized Denim Shirt',\n",
       " '0916256005': 'Platform Boots',\n",
       " '0918836001': 'Fine-knit Pencil Skirt',\n",
       " '0714790020': 'Mom High Ankle Jeans'}"
      ]
     },
     "execution_count": 3,
     "metadata": {},
     "output_type": "execute_result"
    }
   ],
   "source": [
    "article_info['0714790020'] = 'Mom High Ankle Jeans'\n",
    "article_info"
   ]
  },
  {
   "cell_type": "markdown",
   "metadata": {},
   "source": [
    "If a key exist in the dictionary, the value will be modified."
   ]
  },
  {
   "cell_type": "code",
   "execution_count": 4,
   "metadata": {},
   "outputs": [
    {
     "data": {
      "text/plain": [
       "{'0846399001': 'Oversized Denim Shirt',\n",
       " '0916256005': 'Platform Boots',\n",
       " '0918836001': 'Fine-knit Pencil Skirt',\n",
       " '0714790020': 'High Ankle Jeans'}"
      ]
     },
     "execution_count": 4,
     "metadata": {},
     "output_type": "execute_result"
    }
   ],
   "source": [
    "article_info['0714790020'] = 'High Ankle Jeans'\n",
    "article_info"
   ]
  },
  {
   "cell_type": "markdown",
   "metadata": {},
   "source": [
    "To delete a key-value pair, only the key need to be specified."
   ]
  },
  {
   "cell_type": "code",
   "execution_count": 5,
   "metadata": {},
   "outputs": [
    {
     "data": {
      "text/plain": [
       "{'0846399001': 'Oversized Denim Shirt',\n",
       " '0916256005': 'Platform Boots',\n",
       " '0918836001': 'Fine-knit Pencil Skirt'}"
      ]
     },
     "execution_count": 5,
     "metadata": {},
     "output_type": "execute_result"
    }
   ],
   "source": [
    "del article_info['0714790020']\n",
    "article_info"
   ]
  },
  {
   "cell_type": "markdown",
   "metadata": {},
   "source": [
    "Another important function is _len(dictionary)_. This function returns the number of key-value pairs in a dictionary."
   ]
  },
  {
   "cell_type": "code",
   "execution_count": 6,
   "metadata": {},
   "outputs": [
    {
     "data": {
      "text/plain": [
       "3"
      ]
     },
     "execution_count": 6,
     "metadata": {},
     "output_type": "execute_result"
    }
   ],
   "source": [
    "len(article_info)"
   ]
  },
  {
   "cell_type": "markdown",
   "metadata": {},
   "source": [
    "**Exercise:** [Fine-knit Turtleneck Sweater](https://www2.hm.com/en_us/productpage.0715828011.html) is an article we are interested in looking more into. Add it to the dictionary ```articles_info```."
   ]
  },
  {
   "cell_type": "code",
   "execution_count": null,
   "metadata": {},
   "outputs": [],
   "source": []
  },
  {
   "cell_type": "markdown",
   "metadata": {},
   "source": [
    "**Exercise:** The article [Fine-knit Turtleneck Sweater](https://www2.hm.com/en_us/productpage.0715828011.html) will get a new name. Change it to [Turtleneck Sweater](https://www2.hm.com/en_us/productpage.0715828011.html)."
   ]
  },
  {
   "cell_type": "code",
   "execution_count": null,
   "metadata": {},
   "outputs": [],
   "source": []
  },
  {
   "cell_type": "markdown",
   "metadata": {},
   "source": [
    "**Exercise:** The [Fine-knit Pencil Skirt](https://www2.hm.com/en_us/productpage.0918836001.html) belongs to a special collection and will soon no longer be on sale. Remove it from the dictionary."
   ]
  },
  {
   "cell_type": "code",
   "execution_count": null,
   "metadata": {},
   "outputs": [],
   "source": []
  },
  {
   "cell_type": "markdown",
   "metadata": {},
   "source": [
    "**Exercise:** How many articles are in the list?"
   ]
  },
  {
   "cell_type": "code",
   "execution_count": null,
   "metadata": {},
   "outputs": [],
   "source": []
  },
  {
   "cell_type": "markdown",
   "metadata": {},
   "source": [
    "### 1.3. Dictionaries + Lists\n",
    "We can store single datatypes as values in a dictionary, but we can also store lists. Let's take a look at an example.\n",
    "\n",
    "When buying products online, those products are usually shipped from a warehouse in a certain location. The warehouses can be very large and ship to multiple countries. Using a dictionary we can keep track of which countries a warehouse ships to."
   ]
  },
  {
   "cell_type": "code",
   "execution_count": 7,
   "metadata": {},
   "outputs": [],
   "source": [
    "warehouse_info = {\"Warehouse1\": [\"Sweden\", \"Belgium\", \"Italy\", \"Greece\"],\n",
    "                  \"Warehouse2\": [\"China\", \"Malaysia\", \"Vietnam\", \"Taiwan\"],\n",
    "                  \"Warehouse3\": [\"South Africa\", \"Namibia\", \"Botswana\", \"Zimbabwe\"],\n",
    "                  \"Warehouse4\": [\"Mexico\", \"USA\", \"Canada\", \"Argentina\"]}"
   ]
  },
  {
   "cell_type": "markdown",
   "metadata": {},
   "source": [
    "**Exercise:** How do you access all the countries that _Warehouse3_ ships to?"
   ]
  },
  {
   "cell_type": "code",
   "execution_count": null,
   "metadata": {},
   "outputs": [],
   "source": []
  },
  {
   "cell_type": "markdown",
   "metadata": {},
   "source": [
    "**Exercise:** How do you acess the country Taiwan in ```warehouse_info```?"
   ]
  },
  {
   "cell_type": "code",
   "execution_count": null,
   "metadata": {},
   "outputs": [],
   "source": []
  },
  {
   "cell_type": "markdown",
   "metadata": {},
   "source": [
    "### 1.4. Dictionaries + Dictionaries\n",
    "Similar to lists, we can also store multiple dictionaries in a dictionary."
   ]
  },
  {
   "cell_type": "code",
   "execution_count": 8,
   "metadata": {},
   "outputs": [
    {
     "data": {
      "text/plain": [
       "{'0846399001': {'article_name': 'Oversized Denim Shirt',\n",
       "  'article_color': 'Light Denim Blue'},\n",
       " '0916256005': {'article_name': 'Platform Boots',\n",
       "  'article_color': 'Black/patent'}}"
      ]
     },
     "execution_count": 8,
     "metadata": {},
     "output_type": "execute_result"
    }
   ],
   "source": [
    "articles = {\"0846399001\": {'article_name': \"Oversized Denim Shirt\",\n",
    "                           'article_color': \"Light Denim Blue\"},\n",
    "            '0916256005': {'article_name': 'Platform Boots',\n",
    "                           'article_color': 'Black/patent'}}\n",
    "articles"
   ]
  },
  {
   "cell_type": "markdown",
   "metadata": {},
   "source": [
    "**Exercise:** How do you access the article name of _0916256005_?"
   ]
  },
  {
   "cell_type": "code",
   "execution_count": null,
   "metadata": {},
   "outputs": [],
   "source": []
  },
  {
   "cell_type": "markdown",
   "metadata": {},
   "source": [
    "**Exercise:** How do you access the article color of _0846399001_?"
   ]
  },
  {
   "cell_type": "code",
   "execution_count": null,
   "metadata": {},
   "outputs": [],
   "source": []
  },
  {
   "cell_type": "markdown",
   "metadata": {},
   "source": [
    "### 1.5. Dictionary methods\n",
    "Some useful methods that are commonly being used with dictionaries."
   ]
  },
  {
   "cell_type": "code",
   "execution_count": 10,
   "metadata": {},
   "outputs": [
    {
     "data": {
      "text/plain": [
       "True"
      ]
     },
     "execution_count": 10,
     "metadata": {},
     "output_type": "execute_result"
    }
   ],
   "source": [
    "# check if key exists in dictionary\n",
    "'0846399001' in article_info"
   ]
  },
  {
   "cell_type": "code",
   "execution_count": 11,
   "metadata": {},
   "outputs": [
    {
     "data": {
      "text/plain": [
       "False"
      ]
     },
     "execution_count": 11,
     "metadata": {},
     "output_type": "execute_result"
    }
   ],
   "source": [
    "'0735288990' in article_info"
   ]
  },
  {
   "cell_type": "code",
   "execution_count": 12,
   "metadata": {},
   "outputs": [
    {
     "data": {
      "text/plain": [
       "dict_keys(['0846399001', '0916256005', '0918836001'])"
      ]
     },
     "execution_count": 12,
     "metadata": {},
     "output_type": "execute_result"
    }
   ],
   "source": [
    "# returns a list of keys (Python 2) or an iterable view (Python 3)\n",
    "article_info.keys()"
   ]
  },
  {
   "cell_type": "code",
   "execution_count": 13,
   "metadata": {},
   "outputs": [
    {
     "data": {
      "text/plain": [
       "dict_values(['Oversized Denim Shirt', 'Platform Boots', 'Fine-knit Pencil Skirt'])"
      ]
     },
     "execution_count": 13,
     "metadata": {},
     "output_type": "execute_result"
    }
   ],
   "source": [
    "# returns a list of values (Python 2) or an iterable view (Python 3)\n",
    "article_info.values()"
   ]
  },
  {
   "cell_type": "code",
   "execution_count": 14,
   "metadata": {},
   "outputs": [
    {
     "data": {
      "text/plain": [
       "dict_items([('0846399001', 'Oversized Denim Shirt'), ('0916256005', 'Platform Boots'), ('0918836001', 'Fine-knit Pencil Skirt')])"
      ]
     },
     "execution_count": 14,
     "metadata": {},
     "output_type": "execute_result"
    }
   ],
   "source": [
    "# returns a list of key-value pairs (Python 2) or an iterable view (Python 3)\n",
    "article_info.items()"
   ]
  },
  {
   "cell_type": "markdown",
   "metadata": {},
   "source": [
    "### 1.6. For Loops\n",
    "Similar to lists, we can also apply for loops to iterate through a dictionary."
   ]
  },
  {
   "cell_type": "code",
   "execution_count": 15,
   "metadata": {},
   "outputs": [
    {
     "data": {
      "text/plain": [
       "{'0846399001': 'Oversized Denim Shirt',\n",
       " '0916256005': 'Platform Boots',\n",
       " '0918836001': 'Fine-knit Pencil Skirt'}"
      ]
     },
     "execution_count": 15,
     "metadata": {},
     "output_type": "execute_result"
    }
   ],
   "source": [
    "article_info = {\"0846399001\": \"Oversized Denim Shirt\",\n",
    "                \"0916256005\": \"Platform Boots\",\n",
    "                \"0918836001\": \"Fine-knit Pencil Skirt\"}\n",
    "article_info"
   ]
  },
  {
   "cell_type": "markdown",
   "metadata": {},
   "source": [
    "How to read for loops:\n",
    "\n",
    "* For every key-value pair in the dictionary ```article_info```\n",
    "    * print the key-value pair"
   ]
  },
  {
   "cell_type": "code",
   "execution_count": 16,
   "metadata": {},
   "outputs": [
    {
     "name": "stdout",
     "output_type": "stream",
     "text": [
      "('0846399001', 'Oversized Denim Shirt')\n",
      "('0916256005', 'Platform Boots')\n",
      "('0918836001', 'Fine-knit Pencil Skirt')\n"
     ]
    }
   ],
   "source": [
    "for article in article_info.items():\n",
    "    print(article)"
   ]
  },
  {
   "cell_type": "markdown",
   "metadata": {},
   "source": [
    "**Exercise:** How do you iterate through all the keys only in the dictionary?"
   ]
  },
  {
   "cell_type": "code",
   "execution_count": null,
   "metadata": {},
   "outputs": [],
   "source": []
  },
  {
   "cell_type": "markdown",
   "metadata": {},
   "source": [
    "**Exercise:** How do you iterate through all the values only in the dictionary?"
   ]
  },
  {
   "cell_type": "code",
   "execution_count": null,
   "metadata": {},
   "outputs": [],
   "source": []
  },
  {
   "cell_type": "markdown",
   "metadata": {},
   "source": [
    "---\n",
    "**Exercise:** The business department reached out to us about wanting to analyze the sales data on an aggregated level. The sales data in ```sales_table``` is currently on country level. To perform analysis on an aggregated level, information about which market the country belongs to needs to be added. Use the dictionary ```markets``` to add that information."
   ]
  },
  {
   "cell_type": "code",
   "execution_count": 17,
   "metadata": {},
   "outputs": [
    {
     "data": {
      "text/plain": [
       "[['0846399001', 'Oversized Denim Shirt', 'Sweden'],\n",
       " ['0916256005', 'Platform Boots', 'Germany'],\n",
       " ['0918836001', 'Fine-knit Pencil Skirt', 'Korea'],\n",
       " ['0846399001', 'Oversized Denim Shirt', 'Turkey'],\n",
       " ['0916256005', 'Platform Boots', 'France']]"
      ]
     },
     "execution_count": 17,
     "metadata": {},
     "output_type": "execute_result"
    }
   ],
   "source": [
    "# [article_number, article_name, country]\n",
    "sales_table = [[\"0846399001\", \"Oversized Denim Shirt\", \"Sweden\"],\n",
    "               [\"0916256005\", \"Platform Boots\", \"Germany\"],\n",
    "               [\"0918836001\", \"Fine-knit Pencil Skirt\", \"Korea\"],\n",
    "               [\"0846399001\", \"Oversized Denim Shirt\", \"Turkey\"],\n",
    "               [\"0916256005\", \"Platform Boots\", \"France\"]]\n",
    "sales_table"
   ]
  },
  {
   "cell_type": "code",
   "execution_count": 18,
   "metadata": {},
   "outputs": [
    {
     "data": {
      "text/plain": [
       "{'Market 1': ['Sweden', 'Germany'],\n",
       " 'Market 2': ['Japan', 'Korea'],\n",
       " 'Market 3': ['Turkey'],\n",
       " 'Market 4': ['Belgium', 'France']}"
      ]
     },
     "execution_count": 18,
     "metadata": {},
     "output_type": "execute_result"
    }
   ],
   "source": [
    "markets = {\"Market 1\": [\"Sweden\", \"Germany\"],\n",
    "           \"Market 2\": [\"Japan\", \"Korea\"],\n",
    "           \"Market 3\": [\"Turkey\"],\n",
    "           \"Market 4\": [\"Belgium\", \"France\"]}\n",
    "markets"
   ]
  },
  {
   "cell_type": "code",
   "execution_count": null,
   "metadata": {},
   "outputs": [],
   "source": [
    "\n",
    "\n",
    "\n",
    "\n"
   ]
  },
  {
   "cell_type": "markdown",
   "metadata": {},
   "source": [
    "**Exercise:** Let's continue building on our base table. In the dictionary ```article_info``` there is information about each article's color. Transfer this information to the third column in ```sales_table```."
   ]
  },
  {
   "cell_type": "code",
   "execution_count": 19,
   "metadata": {},
   "outputs": [
    {
     "data": {
      "text/plain": [
       "{'0846399001': {'article_name': 'Oversized Denim Shirt',\n",
       "  'article_color': 'Light Denim Blue'},\n",
       " '0916256005': {'article_name': 'Platform Boots',\n",
       "  'article_color': 'Black/patent'},\n",
       " '0918836001': {'article_name': 'Fine-knit Pencil Skirt',\n",
       "  'article_color': 'Dark gray melange'}}"
      ]
     },
     "execution_count": 19,
     "metadata": {},
     "output_type": "execute_result"
    }
   ],
   "source": [
    "article_info = {'0846399001': {'article_name': 'Oversized Denim Shirt',\n",
    "                               'article_color': 'Light Denim Blue'},\n",
    "                '0916256005': {'article_name': 'Platform Boots',\n",
    "                               'article_color': 'Black/patent'},\n",
    "                '0918836001': {'article_name': 'Fine-knit Pencil Skirt',\n",
    "                               'article_color': 'Dark gray melange'}}\n",
    "\n",
    "article_info"
   ]
  },
  {
   "cell_type": "code",
   "execution_count": null,
   "metadata": {},
   "outputs": [],
   "source": [
    "\n",
    "\n",
    "\n",
    "\n"
   ]
  },
  {
   "cell_type": "markdown",
   "metadata": {},
   "source": [
    "### 2. Sets\n",
    "Sets is the fourth data structure we are introducing in this notebook. Sets are similar to dictionaries, but they only contain the keys. Since the keys have to be unique, sets basically store a collection of _unique_ elements.\n",
    "\n",
    "* set is a data structure that can store a unique collection of elements\n",
    "* defined using curly brackets {item1, item2, item3, ...}\n",
    "* each item is separated with a comma "
   ]
  },
  {
   "cell_type": "code",
   "execution_count": 22,
   "metadata": {},
   "outputs": [
    {
     "data": {
      "text/plain": [
       "{'0846399001', '0916256005', '0918836001'}"
      ]
     },
     "execution_count": 22,
     "metadata": {},
     "output_type": "execute_result"
    }
   ],
   "source": [
    "article_numbers = {\"0846399001\", \"0916256005\", \"0846399001\", \"0918836001\"}\n",
    "article_numbers"
   ]
  },
  {
   "cell_type": "markdown",
   "metadata": {},
   "source": [
    "### 3. While Loops\n",
    "While Loops is another type of loop that let us repeat the same code multiple times. What differs for loops from while loops is that a while loop repeats the code as long as the condition is true."
   ]
  },
  {
   "cell_type": "code",
   "execution_count": 23,
   "metadata": {},
   "outputs": [
    {
     "name": "stdout",
     "output_type": "stream",
     "text": [
      "This will print 5 times\n",
      "This will print 5 times\n",
      "This will print 5 times\n",
      "This will print 5 times\n",
      "This will print 5 times\n"
     ]
    }
   ],
   "source": [
    "count = 0\n",
    "while count < 5:\n",
    "    print('This will print 5 times')\n",
    "    count += 1    # equivalent to 'count = count + 1'"
   ]
  },
  {
   "cell_type": "code",
   "execution_count": null,
   "metadata": {},
   "outputs": [],
   "source": []
  }
 ],
 "metadata": {
  "kernelspec": {
   "display_name": "Python 3",
   "language": "python",
   "name": "python3"
  },
  "language_info": {
   "codemirror_mode": {
    "name": "ipython",
    "version": 3
   },
   "file_extension": ".py",
   "mimetype": "text/x-python",
   "name": "python",
   "nbconvert_exporter": "python",
   "pygments_lexer": "ipython3",
   "version": "3.6.5"
  }
 },
 "nbformat": 4,
 "nbformat_minor": 2
}
